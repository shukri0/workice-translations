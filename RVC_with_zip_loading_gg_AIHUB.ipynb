{
  "nbformat": 4,
  "nbformat_minor": 0,
  "metadata": {
    "colab": {
      "private_outputs": true,
      "provenance": [],
      "include_colab_link": true
    },
    "kernelspec": {
      "name": "python3",
      "display_name": "Python 3"
    },
    "language_info": {
      "name": "python"
    },
    "accelerator": "GPU",
    "gpuClass": "standard"
  },
  "cells": [
    {
      "cell_type": "markdown",
      "metadata": {
        "id": "view-in-github",
        "colab_type": "text"
      },
      "source": [
        "<a href=\"https://colab.research.google.com/github/shukri0/workice-translations/blob/master/RVC_with_zip_loading_gg_AIHUB.ipynb\" target=\"_parent\"><img src=\"https://colab.research.google.com/assets/colab-badge.svg\" alt=\"Open In Colab\"/></a>"
      ]
    },
    {
      "cell_type": "code",
      "execution_count": null,
      "metadata": {
        "id": "GmFP6bN9dvOq",
        "cellView": "form"
      },
      "outputs": [],
      "source": [
        "#@title GPU Check\n",
        "!nvidia-smi"
      ]
    },
    {
      "cell_type": "code",
      "source": [
        "#@title Install Dependencies\n",
        "!apt-get -y install build-essential python3-dev ffmpeg\n",
        "!pip3 install --upgrade setuptools wheel\n",
        "!pip3 install --upgrade pip\n",
        "!pip3 install faiss-gpu fairseq gradio ffmpeg ffmpeg-python praat-parselmouth pyworld numpy==1.23.5 numba==0.56.4 librosa==0.9.2\n",
        "!apt -y install -qq aria2"
      ],
      "metadata": {
        "id": "wjddIFr1oS3W",
        "cellView": "form"
      },
      "execution_count": null,
      "outputs": []
    },
    {
      "cell_type": "code",
      "source": [
        "#@title Clone Github Release\n",
        "%cd /content/\n",
        "!wget https://github.com/RVC-Project/Retrieval-based-Voice-Conversion-WebUI/releases/download/20230428updated/updated20230428.zip\n",
        "!mkdir /content/Retrieval-based-Voice-Conversion-WebUI\n",
        "!unzip -d /content/Retrieval-based-Voice-Conversion-WebUI -b updated20230428.zip\n",
        "!rm updated20230428.zip\n",
        "%cd /content/Retrieval-based-Voice-Conversion-WebUI\n",
        "!mkdir -p pretrained uvr5_weights"
      ],
      "metadata": {
        "cellView": "form",
        "id": "PHilVYfR102e"
      },
      "execution_count": null,
      "outputs": []
    },
    {
      "cell_type": "code",
      "source": [
        "#@title Download the Base Model\n",
        "!aria2c --console-log-level=error -c -x 16 -s 16 -k 1M https://huggingface.co/lj1995/VoiceConversionWebUI/resolve/main/pretrained/D32k.pth -d /content/Retrieval-based-Voice-Conversion-WebUI/pretrained -o D32k.pth\n",
        "!aria2c --console-log-level=error -c -x 16 -s 16 -k 1M https://huggingface.co/lj1995/VoiceConversionWebUI/resolve/main/pretrained/D40k.pth -d /content/Retrieval-based-Voice-Conversion-WebUI/pretrained -o D40k.pth\n",
        "!aria2c --console-log-level=error -c -x 16 -s 16 -k 1M https://huggingface.co/lj1995/VoiceConversionWebUI/resolve/main/pretrained/D48k.pth -d /content/Retrieval-based-Voice-Conversion-WebUI/pretrained -o D48k.pth\n",
        "!aria2c --console-log-level=error -c -x 16 -s 16 -k 1M https://huggingface.co/lj1995/VoiceConversionWebUI/resolve/main/pretrained/G32k.pth -d /content/Retrieval-based-Voice-Conversion-WebUI/pretrained -o G32k.pth\n",
        "!aria2c --console-log-level=error -c -x 16 -s 16 -k 1M https://huggingface.co/lj1995/VoiceConversionWebUI/resolve/main/pretrained/G40k.pth -d /content/Retrieval-based-Voice-Conversion-WebUI/pretrained -o G40k.pth\n",
        "!aria2c --console-log-level=error -c -x 16 -s 16 -k 1M https://huggingface.co/lj1995/VoiceConversionWebUI/resolve/main/pretrained/G48k.pth -d /content/Retrieval-based-Voice-Conversion-WebUI/pretrained -o G48k.pth\n",
        "!aria2c --console-log-level=error -c -x 16 -s 16 -k 1M https://huggingface.co/lj1995/VoiceConversionWebUI/resolve/main/pretrained/f0D32k.pth -d /content/Retrieval-based-Voice-Conversion-WebUI/pretrained -o f0D32k.pth\n",
        "!aria2c --console-log-level=error -c -x 16 -s 16 -k 1M https://huggingface.co/lj1995/VoiceConversionWebUI/resolve/main/pretrained/f0D40k.pth -d /content/Retrieval-based-Voice-Conversion-WebUI/pretrained -o f0D40k.pth\n",
        "!aria2c --console-log-level=error -c -x 16 -s 16 -k 1M https://huggingface.co/lj1995/VoiceConversionWebUI/resolve/main/pretrained/f0D48k.pth -d /content/Retrieval-based-Voice-Conversion-WebUI/pretrained -o f0D48k.pth\n",
        "!aria2c --console-log-level=error -c -x 16 -s 16 -k 1M https://huggingface.co/lj1995/VoiceConversionWebUI/resolve/main/pretrained/f0G32k.pth -d /content/Retrieval-based-Voice-Conversion-WebUI/pretrained -o f0G32k.pth\n",
        "!aria2c --console-log-level=error -c -x 16 -s 16 -k 1M https://huggingface.co/lj1995/VoiceConversionWebUI/resolve/main/pretrained/f0G40k.pth -d /content/Retrieval-based-Voice-Conversion-WebUI/pretrained -o f0G40k.pth\n",
        "!aria2c --console-log-level=error -c -x 16 -s 16 -k 1M https://huggingface.co/lj1995/VoiceConversionWebUI/resolve/main/pretrained/f0G48k.pth -d /content/Retrieval-based-Voice-Conversion-WebUI/pretrained -o f0G48k.pth\n",
        "\n",
        "!aria2c --console-log-level=error -c -x 16 -s 16 -k 1M https://huggingface.co/lj1995/VoiceConversionWebUI/resolve/main/uvr5_weights/HP2-人声vocals+非人声instrumentals.pth -d /content/Retrieval-based-Voice-Conversion-WebUI/uvr5_weights -o HP2-人声vocals+非人声instrumentals.pth\n",
        "!aria2c --console-log-level=error -c -x 16 -s 16 -k 1M https://huggingface.co/lj1995/VoiceConversionWebUI/resolve/main/uvr5_weights/HP5-主旋律人声vocals+其他instrumentals.pth -d /content/Retrieval-based-Voice-Conversion-WebUI/uvr5_weights -o HP5-主旋律人声vocals+其他instrumentals.pth\n",
        "\n",
        "!aria2c --console-log-level=error -c -x 16 -s 16 -k 1M https://huggingface.co/lj1995/VoiceConversionWebUI/resolve/main/hubert_base.pt -d /content/Retrieval-based-Voice-Conversion-WebUI -o hubert_base.pt"
      ],
      "metadata": {
        "id": "UG3XpUwEomUz",
        "cellView": "form"
      },
      "execution_count": null,
      "outputs": []
    },
    {
      "cell_type": "code",
      "source": [
        "#@title Mount Google Drive\n",
        "\n",
        "from google.colab import drive\n",
        "drive.mount('/content/drive', force_remount=True)"
      ],
      "metadata": {
        "id": "jwu07JgqoFON",
        "cellView": "form"
      },
      "execution_count": null,
      "outputs": []
    },
    {
      "cell_type": "code",
      "source": [
        "#@title Run RVC GUI\n",
        "#@markdown After starting this cell, click on the public URL it generates. <br>\n",
        "#@markdown The Index and Npy files can be found in `/content/Retrieval-based-Voice-Conversion-WebUI/logs/MODELNAME/`  For inference, right click them both and hit \"Copy Path\".\n",
        "\n",
        "%cd /content/Retrieval-based-Voice-Conversion-WebUI\n",
        "# %load_ext tensorboard\n",
        "# %tensorboard --logdir /content/Retrieval-based-Voice-Conversion-WebUI/logs.\n",
        "!python3 infer-web.py --colab --pycmd python3"
      ],
      "metadata": {
        "id": "7vh6vphDwO0b",
        "cellView": "form"
      },
      "execution_count": null,
      "outputs": []
    },
    {
      "cell_type": "markdown",
      "source": [
        "# Training"
      ],
      "metadata": {
        "id": "XAuGUlHDB4cx"
      }
    },
    {
      "cell_type": "code",
      "source": [
        "#@title Load dataset Zip to /content/dataset\n",
        "\n",
        "#@markdown Dataset Zip Location:\n",
        "DATASET = \"/content/drive/MyDrive/dataset/rihannamodel.zip\"  #@param {type:\"string\"}\n",
        "\n",
        "!mkdir -p /content/dataset\n",
        "!unzip -d /content/dataset -B {DATASET}"
      ],
      "metadata": {
        "id": "Mwk7Q0Loqzjx",
        "cellView": "form"
      },
      "execution_count": null,
      "outputs": []
    },
    {
      "cell_type": "code",
      "source": [
        "#@title Clean up Dataset filenames\n",
        "!ls -a /content/dataset/\n",
        "!rename 's/(\\w+)\\.(\\w+)~(\\d*)/$1_$3.$2/' /content/dataset/*.*~*"
      ],
      "metadata": {
        "id": "PDlFxWHWEynD",
        "cellView": "form"
      },
      "execution_count": null,
      "outputs": []
    },
    {
      "cell_type": "markdown",
      "source": [
        "# Saving/Loading Models"
      ],
      "metadata": {
        "id": "pq3PlFmwCDJJ"
      }
    },
    {
      "cell_type": "code",
      "source": [
        "import os\n",
        "import os.path\n",
        "import shutil\n",
        "#@title Load model Zip from Google Drive\n",
        "#@markdown Insert the model name and steps below:\n",
        "def has_numbers(inputString):\n",
        "    return any(char.isdigit() for char in inputString)\n",
        "\n",
        "#@markdown Model Zip Location\n",
        "\n",
        "MODELLOCATION = \"/content/drive/MyDrive/RVC/kanye.zip\"  #@param {type:\"string\"}\n",
        "\n",
        "#@markdown Model Name\n",
        "MODELNAME = \"kanye\"  #@param {type:\"string\"}\n",
        "\n",
        "#@markdown Loading for subsequent training? (Will load G and D files, which are huge but not used for inference)\n",
        "GDLoading = False #@param {type:\"boolean\"}\n",
        "\n",
        "!mkdir -p /content/Retrieval-based-Voice-Conversion-WebUI/logs/{MODELNAME}\n",
        "!mkdir -p /content/unzips/{MODELNAME}/\n",
        "!unzip -d /content/unzips/{MODELNAME} -B {MODELLOCATION}\n",
        "\n",
        "# Set your source and destination directories\n",
        "source_dir = os.path.join(\"/content/unzips/\", MODELNAME)\n",
        "\n",
        "\n",
        "# List all files in the source directory\n",
        "files = os.listdir(source_dir)\n",
        "\n",
        "# Filter files starting with 'G_' and 'D_'\n",
        "g_files = [f for f in files if (\"G_\") in f]\n",
        "d_files = [f for f in files if (\"D_\") in f]\n",
        "model_files = [f for f in files if f.startswith(MODELNAME) and has_numbers(f) and \"G_\" not in f and \"D_\" not in f]\n",
        "\n",
        "# Find the highest numbered G_ and D_ files\n",
        "# g_max = max(g_files, key=lambda x: int(x.split(\"_\")[-1].split(\".\")[0]))\n",
        "# d_max = max(d_files, key=lambda x: int(x.split(\"_\")[-1].split(\".\")[0]))\n",
        "\n",
        "if model_files:\n",
        "  model_max = max(model_files, key=lambda x: (x.split(MODELNAME)[-1].split(\".\")[0]))\n",
        "\n",
        "# print(g_max)\n",
        "\n",
        "# GNumber = (g_max.split(\"_\")[2].split(\".\")[0])\n",
        "# DNumber = (d_max.split(\"_\")[2].split(\".\")[0])\n",
        "if model_files:\n",
        "  MODELSTEP = (model_max.split(MODELNAME)[1].split(\".\")[0])\n",
        "else:\n",
        "  MODELSTEP = \"no\"\n",
        "\n",
        "#@markdown If this stops working for whatever reason please spam ping me as much as possible at discord.gg/aihub\n",
        "print(MODELSTEP)\n",
        "\n",
        "\n",
        "if GDLoading:\n",
        "  g_files = [f for f in files if (\"G_\") in f]\n",
        "  g_max = max(g_files, key=lambda x: int(x.split(\"_\")[-1].split(\".\")[0]))\n",
        "  GNumber = (g_max.split(\"_\")[2].split(\".\")[0])\n",
        "  !mv /content/unzips/{MODELNAME}/*D_{GNUMBER}.pth /content/Retrieval-based-Voice-Conversion-WebUI/logs/{MODELNAME}/G_{MODELSTEP}.pth\n",
        "  !mv /content/unzips/{MODELNAME}/*G_{MODELSTEP}.pth /content/Retrieval-based-Voice-Conversion-WebUI/logs/{MODELNAME}/D_{MODELSTEP}.pth\n",
        "\n",
        "!mv /content/unzips/{MODELNAME}/*.index /content/Retrieval-based-Voice-Conversion-WebUI/logs/{MODELNAME}/\n",
        "!mv /content/unzips/{MODELNAME}/*.npy /content/Retrieval-based-Voice-Conversion-WebUI/logs/{MODELNAME}/\n",
        "!mv /content/unzips/{MODELNAME}/{MODELNAME}*.pth /content/Retrieval-based-Voice-Conversion-WebUI/weights/{MODELNAME}.pth\n",
        "!mv /content/unzips/{MODELNAME}/{MODELNAME}{MODELSTEP}.pth /content/Retrieval-based-Voice-Conversion-WebUI/weights/{MODELNAME}.pth\n",
        "!mv /content/unzips/{MODELNAME}/{MODELNAME}.pth /content/Retrieval-based-Voice-Conversion-WebUI/weights/{MODELNAME}.pth\n",
        "!mv /content/unzips/{MODELNAME}/{MODELNAME}/*.index /content/Retrieval-based-Voice-Conversion-WebUI/logs/{MODELNAME}/\n",
        "!mv /content/unzips/{MODELNAME}/{MODELNAME}/*.npy /content/Retrieval-based-Voice-Conversion-WebUI/logs/{MODELNAME}/\n",
        "!mv /content/unzips/{MODELNAME}/{MODELNAME}/{MODELNAME}*.pth /content/Retrieval-based-Voice-Conversion-WebUI/weights/{MODELNAME}.pth\n",
        "\n",
        "!rm -r /content/unzips/{MODELNAME}/"
      ],
      "metadata": {
        "id": "OVQoLQJXS7WX",
        "cellView": "form"
      },
      "execution_count": null,
      "outputs": []
    },
    {
      "cell_type": "code",
      "source": [
        "import os\n",
        "import os.path\n",
        "import shutil\n",
        "#@title Save model Zip to Drive\n",
        "\n",
        "#@markdown Insert the model name and steps below:\n",
        "\n",
        "#@markdown Model Zip Save Location\n",
        "\n",
        "MODELLOCATION = \"/content/drive/MyDrive/RVC\"  #@param {type:\"string\"}\n",
        "\n",
        "#@markdown Model Name\n",
        "MODELNAME = \"rihanna\"  #@param {type:\"string\"}\n",
        "#@markdown Saving for subsequent training? (Will save G and D files, which are huge but not used for inference)\n",
        "GDSaving = False #@param {type:\"boolean\"}\n",
        "\n",
        "\n",
        "\n",
        "# Set your source and destination directories\n",
        "source_dir = os.path.join(\"/content/Retrieval-based-Voice-Conversion-WebUI/logs/\", MODELNAME)\n",
        "\n",
        "\n",
        "# List all files in the source directory\n",
        "files = os.listdir(source_dir)\n",
        "\n",
        "# Filter files starting with 'G_' and 'D_'\n",
        "g_files = [f for f in files if f.startswith(\"G_\")]\n",
        "d_files = [f for f in files if f.startswith(\"D_\")]\n",
        "\n",
        "# Find the highest numbered G_ and D_ files\n",
        "g_max = max(g_files, key=lambda x: int(x.split(\"_\")[-1].split(\".\")[0]))\n",
        "d_max = max(d_files, key=lambda x: int(x.split(\"_\")[-1].split(\".\")[0]))\n",
        "\n",
        "GNumber = (g_max.split(\"_\")[1].split(\".\")[0])\n",
        "DNumber = (d_max.split(\"_\")[1].split(\".\")[0])\n",
        "\n",
        "!mkdir -p /content/zips/{MODELNAME}/\n",
        "\n",
        "if GDSaving:\n",
        "  !cp /content/Retrieval-based-Voice-Conversion-WebUI/logs/{MODELNAME}/G_{DNumber}.pth /content/zips/{MODELNAME}/{MODELNAME}_G_{GNumber}.pth\n",
        "  !cp /content/Retrieval-based-Voice-Conversion-WebUI/logs/{MODELNAME}/D_{DNumber}.pth /content/zips/{MODELNAME}/{MODELNAME}_D_{DNumber}.pth\n",
        "\n",
        "!cp /content/Retrieval-based-Voice-Conversion-WebUI/logs/{MODELNAME}/added_*.index /content/zips/{MODELNAME}/\n",
        "!cp /content/Retrieval-based-Voice-Conversion-WebUI/logs/{MODELNAME}/total_*.npy /content/zips/{MODELNAME}/\n",
        "!cp /content/Retrieval-based-Voice-Conversion-WebUI/weights/{MODELNAME}.pth /content/zips/{MODELNAME}/{MODELNAME}{GNumber}.pth\n",
        "\n",
        "%cd /content/zips/{MODELNAME}/\n",
        "!mkdir -p {MODELLOCATION}/\n",
        "!zip -r {MODELNAME}.zip *\n",
        "!mv {MODELNAME}.zip {MODELLOCATION}/\n",
        "!rm -r /content/zips/{MODELNAME}\n",
        "%cd /content/Retrieval-based-Voice-Conversion-WebUI/\n"
      ],
      "metadata": {
        "id": "FgJuNeAwx5Y_",
        "cellView": "form"
      },
      "execution_count": null,
      "outputs": []
    },
    {
      "cell_type": "code",
      "source": [
        "import os\n",
        "import os.path\n",
        "import shutil\n",
        "#@title Manual Zip loading from Google Drive\n",
        "\n",
        "#@markdown Model Zip Location\n",
        "\n",
        "MODELLOCATION = \"/content/drive/MyDrive/RVC/kanye.zip\"  #@param {type:\"string\"}\n",
        "\n",
        "!mkdir -p /content/Retrieval-based-Voice-Conversion-WebUI/logs/{MODELNAME}\n",
        "!mkdir -p /content/unzips/{MODELNAME}/\n",
        "!unzip -d /content/unzips/{MODELNAME} -B {MODELLOCATION}\n",
        "\n",
        "# Set your source and destination directories\n",
        "source_dir = os.path.join(\"/content/unzips/\", MODELNAME)\n",
        "#@markdown If you use this, you'll have to move the files manually."
      ],
      "metadata": {
        "cellView": "form",
        "id": "zcojhbN2R355"
      },
      "execution_count": null,
      "outputs": []
    },
    {
      "cell_type": "markdown",
      "source": [
        "# Other"
      ],
      "metadata": {
        "id": "cXJTjcqYCV1t"
      }
    },
    {
      "cell_type": "code",
      "source": [
        "#@title Clone Github Repository\n",
        "\n",
        "!git clone https://github.com/RVC-Project/Retrieval-based-Voice-Conversion-WebUI\n",
        "%cd /content/Retrieval-based-Voice-Conversion-WebUI\n",
        "!mkdir -p pretrained uvr5_weights\n",
        "!git pull"
      ],
      "metadata": {
        "id": "ge_97mfpgqTm",
        "cellView": "form"
      },
      "execution_count": null,
      "outputs": []
    },
    {
      "cell_type": "code",
      "source": [
        "#@title Change Python Version\n",
        "#@markdown Run this, and pick the number that corresponds to \"Python 3.8\". (idk if t his actually works yett so if it doesnt dont do it idk how to turn off autosaving on cocle colab)\n",
        "!python3 --version\n",
        "!sudo update-alternatives --install /usr/bin/python3 python3 /usr/bin/python3.8 1\n",
        "!sudo update-alternatives --config python3 --help\n",
        "!sudo apt install python3-pip\n",
        "!python3 --version"
      ],
      "metadata": {
        "cellView": "form",
        "id": "xbafPVY_wj_h"
      },
      "execution_count": null,
      "outputs": []
    },
    {
      "cell_type": "code",
      "source": [
        "#@title 手动预处理（不推荐）\n",
        "#@markdown 模型名\n",
        "MODELNAME = \"lulu\"  #@param {type:\"string\"}\n",
        "#@markdown 采样率\n",
        "BITRATE = 48000  #@param {type:\"integer\"}\n",
        "#@markdown 使用的进程数\n",
        "THREADCOUNT = 8  #@param {type:\"integer\"}\n",
        "\n",
        "!python3 trainset_preprocess_pipeline_print.py /content/dataset {BITRATE} {THREADCOUNT} logs/{MODELNAME} True\n"
      ],
      "metadata": {
        "id": "ZKAyuKb9J6dz",
        "cellView": "form"
      },
      "execution_count": null,
      "outputs": []
    },
    {
      "cell_type": "code",
      "source": [
        "#@title 手动提取特征（不推荐）\n",
        "#@markdown 模型名\n",
        "MODELNAME = \"lulu\"  #@param {type:\"string\"}\n",
        "#@markdown 使用的进程数\n",
        "THREADCOUNT = 8  #@param {type:\"integer\"}\n",
        "#@markdown 音高提取算法\n",
        "ALGO = \"harvest\"  #@param {type:\"string\"}\n",
        "\n",
        "!python3 extract_f0_print.py logs/{MODELNAME} {THREADCOUNT} {ALGO}\n",
        "\n",
        "!python3 extract_feature_print.py cpu 1 0 0 logs/{MODELNAME}\n"
      ],
      "metadata": {
        "id": "CrxJqzAUKmPJ",
        "cellView": "form"
      },
      "execution_count": null,
      "outputs": []
    },
    {
      "cell_type": "code",
      "source": [
        "#@title 手动训练（不推荐）\n",
        "#@markdown 模型名\n",
        "MODELNAME = \"lulu\"  #@param {type:\"string\"}\n",
        "#@markdown 使用的GPU\n",
        "USEGPU = \"0\"  #@param {type:\"string\"}\n",
        "#@markdown 批大小\n",
        "BATCHSIZE = 32  #@param {type:\"integer\"}\n",
        "#@markdown 停止的epoch\n",
        "MODELEPOCH = 3200  #@param {type:\"integer\"}\n",
        "#@markdown 保存epoch间隔\n",
        "EPOCHSAVE = 100  #@param {type:\"integer\"}\n",
        "#@markdown 采样率\n",
        "MODELSAMPLE = \"48k\"  #@param {type:\"string\"}\n",
        "#@markdown 是否缓存训练集\n",
        "CACHEDATA = 1  #@param {type:\"integer\"}\n",
        "#@markdown 是否仅保存最新的ckpt文件\n",
        "ONLYLATEST = 0  #@param {type:\"integer\"}\n",
        "\n",
        "!python3 train_nsf_sim_cache_sid_load_pretrain.py -e lulu -sr {MODELSAMPLE} -f0 1 -bs {BATCHSIZE} -g {USEGPU} -te {MODELEPOCH} -se {EPOCHSAVE} -pg pretrained/f0G{MODELSAMPLE}.pth -pd pretrained/f0D{MODELSAMPLE}.pth -l {ONLYLATEST} -c {CACHEDATA}\n"
      ],
      "metadata": {
        "id": "IMLPLKOaKj58",
        "cellView": "form"
      },
      "execution_count": null,
      "outputs": []
    },
    {
      "cell_type": "code",
      "source": [
        "#@title 删除其它pth，只留选中的（慎点，仔细看代码）\n",
        "#@markdown 模型名\n",
        "MODELNAME = \"lulu\"  #@param {type:\"string\"}\n",
        "#@markdown 选中模型epoch\n",
        "MODELEPOCH = 9600  #@param {type:\"integer\"}\n",
        "\n",
        "!echo \"备份选中的模型。。。\"\n",
        "!cp /content/Retrieval-based-Voice-Conversion-WebUI/logs/{MODELNAME}/G_{MODELEPOCH}.pth /content/{MODELNAME}_D_{MODELEPOCH}.pth\n",
        "!cp /content/Retrieval-based-Voice-Conversion-WebUI/logs/{MODELNAME}/D_{MODELEPOCH}.pth /content/{MODELNAME}_G_{MODELEPOCH}.pth\n",
        "\n",
        "!echo \"正在删除。。。\"\n",
        "!ls /content/Retrieval-based-Voice-Conversion-WebUI/logs/{MODELNAME}\n",
        "!rm /content/Retrieval-based-Voice-Conversion-WebUI/logs/{MODELNAME}/*.pth\n",
        "\n",
        "!echo \"恢复选中的模型。。。\"\n",
        "!mv /content/{MODELNAME}_D_{MODELEPOCH}.pth /content/Retrieval-based-Voice-Conversion-WebUI/logs/{MODELNAME}/G_{MODELEPOCH}.pth\n",
        "!mv /content/{MODELNAME}_G_{MODELEPOCH}.pth /content/Retrieval-based-Voice-Conversion-WebUI/logs/{MODELNAME}/D_{MODELEPOCH}.pth\n",
        "\n",
        "!echo \"删除完成\"\n",
        "!ls /content/Retrieval-based-Voice-Conversion-WebUI/logs/{MODELNAME}"
      ],
      "metadata": {
        "id": "haYA81hySuDl",
        "cellView": "form"
      },
      "execution_count": null,
      "outputs": []
    },
    {
      "cell_type": "code",
      "source": [
        "#@title 清除项目下所有文件，只留选中的模型（慎点，仔细看代码）\n",
        "#@markdown 模型名\n",
        "MODELNAME = \"lulu\"  #@param {type:\"string\"}\n",
        "#@markdown 选中模型epoch\n",
        "MODELEPOCH = 9600  #@param {type:\"integer\"}\n",
        "\n",
        "!echo \"备份选中的模型。。。\"\n",
        "!cp /content/Retrieval-based-Voice-Conversion-WebUI/logs/{MODELNAME}/G_{MODELEPOCH}.pth /content/{MODELNAME}_D_{MODELEPOCH}.pth\n",
        "!cp /content/Retrieval-based-Voice-Conversion-WebUI/logs/{MODELNAME}/D_{MODELEPOCH}.pth /content/{MODELNAME}_G_{MODELEPOCH}.pth\n",
        "\n",
        "!echo \"正在删除。。。\"\n",
        "!ls /content/Retrieval-based-Voice-Conversion-WebUI/logs/{MODELNAME}\n",
        "!rm -rf /content/Retrieval-based-Voice-Conversion-WebUI/logs/{MODELNAME}/*\n",
        "\n",
        "!echo \"恢复选中的模型。。。\"\n",
        "!mv /content/{MODELNAME}_D_{MODELEPOCH}.pth /content/Retrieval-based-Voice-Conversion-WebUI/logs/{MODELNAME}/G_{MODELEPOCH}.pth\n",
        "!mv /content/{MODELNAME}_G_{MODELEPOCH}.pth /content/Retrieval-based-Voice-Conversion-WebUI/logs/{MODELNAME}/D_{MODELEPOCH}.pth\n",
        "\n",
        "!echo \"删除完成\"\n",
        "!ls /content/Retrieval-based-Voice-Conversion-WebUI/logs/{MODELNAME}"
      ],
      "metadata": {
        "id": "QhSiPTVPoIRh",
        "cellView": "form"
      },
      "execution_count": null,
      "outputs": []
    }
  ]
}